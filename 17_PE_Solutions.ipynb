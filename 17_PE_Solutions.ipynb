{
 "metadata": {
  "language_info": {
   "codemirror_mode": {
    "name": "ipython",
    "version": 3
   },
   "file_extension": ".py",
   "mimetype": "text/x-python",
   "name": "python",
   "nbconvert_exporter": "python",
   "pygments_lexer": "ipython3",
   "version": "3.8.5-final"
  },
  "orig_nbformat": 2,
  "kernelspec": {
   "name": "python3",
   "display_name": "Python 3.8.5 64-bit",
   "metadata": {
    "interpreter": {
     "hash": "aee8b7b246df8f9039afb4144a1f6fd8d2ca17a180786b69acc140d282b71a49"
    }
   }
  }
 },
 "nbformat": 4,
 "nbformat_minor": 2,
 "cells": [
  {
   "source": [
    "If the numbers 1 to 5 are written out in words: one, two, three, four, five, then there are 3 + 3 + 5 + 4 + 4 = 19 letters used in total.\n",
    "\n",
    "If all the numbers from 1 to 1000 (one thousand) inclusive were written out in words, how many letters would be used?\n",
    "\n",
    "\n",
    "NOTE: Do not count spaces or hyphens. For example, 342 (three hundred and forty-two) contains 23 letters and 115 (one hundred and fifteen) contains 20 letters. The use of \"and\" when writing out numbers is in compliance with British usage."
   ],
   "cell_type": "markdown",
   "metadata": {}
  },
  {
   "source": [],
   "cell_type": "markdown",
   "metadata": {}
  },
  {
   "cell_type": "code",
   "execution_count": 35,
   "metadata": {},
   "outputs": [],
   "source": [
    "num = [\n",
    "\t[75],\n",
    "\t[95,64],\n",
    "\t[17,47,82],\n",
    "\t[18,35,87,10],\n",
    "\t[20, 4,82,47,65],\n",
    "\t[19, 1,23,75, 3,34],\n",
    "\t[88, 2,77,73, 7,63,67],\n",
    "\t[99,65, 4,28, 6,16,70,92],\n",
    "\t[41,41,26,56,83,40,80,70,33],\n",
    "\t[41,48,72,33,47,32,37,16,94,29],\n",
    "\t[53,71,44,65,25,43,91,52,97,51,14],\n",
    "\t[70,11,33,28,77,73,17,78,39,68,17,57],\n",
    "\t[91,71,52,38,17,14,91,43,58,50,27,29,48],\n",
    "\t[63,66, 4,68,89,53,67,30,73,16,69,87,40,31],\n",
    "\t[ 4,62,98,27,23, 9,70,98,73,93,38,53,60, 4,23],\n",
    "]"
   ]
  },
  {
   "cell_type": "code",
   "execution_count": 36,
   "metadata": {},
   "outputs": [
    {
     "output_type": "stream",
     "name": "stdout",
     "text": [
      "1074\n"
     ]
    }
   ],
   "source": [
    "for x in reversed(range(len(num)-1)):\n",
    "    for y in range(len(num[x])):\n",
    "        num[x][y] += max(num[x+1][y],num[x+1][y+1] )\n",
    "print(num[0][0])"
   ]
  },
  {
   "cell_type": "code",
   "execution_count": null,
   "metadata": {},
   "outputs": [],
   "source": []
  }
 ]
}