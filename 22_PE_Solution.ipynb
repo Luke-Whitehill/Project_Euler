{
 "metadata": {
  "language_info": {
   "codemirror_mode": {
    "name": "ipython",
    "version": 3
   },
   "file_extension": ".py",
   "mimetype": "text/x-python",
   "name": "python",
   "nbconvert_exporter": "python",
   "pygments_lexer": "ipython3",
   "version": "3.8.5-final"
  },
  "orig_nbformat": 2,
  "kernelspec": {
   "name": "python3",
   "display_name": "Python 3.8.5 64-bit",
   "metadata": {
    "interpreter": {
     "hash": "aee8b7b246df8f9039afb4144a1f6fd8d2ca17a180786b69acc140d282b71a49"
    }
   }
  }
 },
 "nbformat": 4,
 "nbformat_minor": 2,
 "cells": [
  {
   "source": [
    "\n",
    "\n",
    "Using names.txt (right click and 'Save Link/Target As...'), a 46K text file containing over five-thousand first names, begin by sorting it into alphabetical order. Then working out the alphabetical value for each name, multiply this value by its alphabetical position in the list to obtain a name score.\n",
    "\n",
    "For example, when the list is sorted into alphabetical order, COLIN, which is worth 3 + 15 + 12 + 9 + 14 = 53, is the 938th name in the list. So, COLIN would obtain a score of 938 × 53 = 49714.\n",
    "\n",
    "What is the total of all the name scores in the file?\n"
   ],
   "cell_type": "markdown",
   "metadata": {}
  },
  {
   "cell_type": "code",
   "execution_count": 24,
   "metadata": {},
   "outputs": [
    {
     "output_type": "stream",
     "name": "stdout",
     "text": [
      "871198282\n"
     ]
    }
   ],
   "source": [
    "def score(name, pos):\n",
    "    score = 0\n",
    "\n",
    "    for letter in name:\n",
    "        if letter == \"A\": score += 1\n",
    "        elif letter == \"B\": score += 2\n",
    "        elif letter == \"C\": score += 3\n",
    "        elif letter == \"D\": score += 4\n",
    "        elif letter == \"E\": score += 5\n",
    "        elif letter == \"F\": score += 6\n",
    "        elif letter == \"G\": score += 7\n",
    "        elif letter == \"H\": score += 8\n",
    "        elif letter == \"I\": score += 9\n",
    "        elif letter == \"J\": score += 10\n",
    "        elif letter == \"K\": score += 11\n",
    "        elif letter == \"L\": score += 12\n",
    "        elif letter == \"M\": score += 13\n",
    "        elif letter == \"N\": score += 14\n",
    "        elif letter == \"O\": score += 15\n",
    "        elif letter == \"P\": score += 16\n",
    "        elif letter == \"Q\": score += 17\n",
    "        elif letter == \"R\": score += 18\n",
    "        elif letter == \"S\": score += 19\n",
    "        elif letter == \"T\": score += 20\n",
    "        elif letter == \"U\": score += 21\n",
    "        elif letter == \"V\": score += 22\n",
    "        elif letter == \"W\": score += 23\n",
    "        elif letter == \"X\": score += 24\n",
    "        elif letter == \"Y\": score += 25\n",
    "        elif letter == \"Z\": score += 26\n",
    "        else: score += 0\n",
    "    # end for loop.\n",
    "\n",
    "    return score * pos\n",
    "#end def score.\n",
    "\n",
    "f = open('p022_names.txt')\n",
    "string = f.readlines()\n",
    "f.close()\n",
    "\n",
    "names = sorted(string[0].split(\",\"))\n",
    "tscore = 0\n",
    "pos = 1\n",
    "\n",
    "for name in names:\n",
    "    tscore += score(name, pos)\n",
    "    pos += 1\n",
    "#end for loop.\n",
    "\n",
    "print(tscore)"
   ]
  },
  {
   "cell_type": "code",
   "execution_count": null,
   "metadata": {},
   "outputs": [],
   "source": []
  }
 ]
}