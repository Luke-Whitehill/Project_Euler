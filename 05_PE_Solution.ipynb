{
 "metadata": {
  "language_info": {
   "codemirror_mode": {
    "name": "ipython",
    "version": 3
   },
   "file_extension": ".py",
   "mimetype": "text/x-python",
   "name": "python",
   "nbconvert_exporter": "python",
   "pygments_lexer": "ipython3",
   "version": "3.8.5-final"
  },
  "orig_nbformat": 2,
  "kernelspec": {
   "name": "python_defaultSpec_1600028985494",
   "display_name": "Python 3.8.5 64-bit"
  }
 },
 "nbformat": 4,
 "nbformat_minor": 2,
 "cells": [
  {
   "cell_type": "code",
   "execution_count": 9,
   "metadata": {
    "tags": []
   },
   "outputs": [
    {
     "output_type": "stream",
     "name": "stdout",
     "text": "yes one\n1\nyes one\n3\nyes one\n9\nyes\n"
    }
   ],
   "source": [
    "num = 123456789\n",
    "for i in range (1,10):\n",
    "    if num%i ==0 :\n",
    "        print(\"yes one\")\n",
    "        print(i)\n",
    "if 10%2==0:\n",
    "    print(\"yes\")"
   ]
  },
  {
   "cell_type": "code",
   "execution_count": null,
   "metadata": {},
   "outputs": [],
   "source": [
    "if 10%2==0:\n",
    "    print(\"yes\")"
   ]
  },
  {
   "cell_type": "code",
   "execution_count": 11,
   "metadata": {
    "tags": []
   },
   "outputs": [
    {
     "output_type": "stream",
     "name": "stdout",
     "text": "0\n5\n10\n15\n20\n25\n30\n35\n40\n45\n50\n55\n60\n65\n70\n75\n80\n85\n90\n95\n"
    }
   ],
   "source": [
    "num = 0\n",
    "while num < 100:\n",
    "    print(num)\n",
    "    num += 5\n"
   ]
  },
  {
   "cell_type": "code",
   "execution_count": 13,
   "metadata": {
    "tags": []
   },
   "outputs": [
    {
     "output_type": "stream",
     "name": "stdout",
     "text": "divisible\ndivisible\ndivisible\ndivisible\ndivisible\ndivisible\ndivisible\ndivisible\ndivisible\n"
    }
   ],
   "source": [
    "num = 0\n",
    "for i in range(1,10):\n",
    "    num += 1\n",
    "    if num%i == 0:\n",
    "        print(\"divisible\")\n",
    "    else:\n",
    "        print(\"non\")\n"
   ]
  },
  {
   "cell_type": "code",
   "execution_count": 33,
   "metadata": {
    "tags": []
   },
   "outputs": [
    {
     "output_type": "stream",
     "name": "stdout",
     "text": "In 0.0001678466796875 seconds\n"
    }
   ],
   "source": [
    "import time\n",
    "start = time.time()\n",
    "\n",
    "i = 1\n",
    "while i%11 == 0 and i%13 == 0 and i%14== 0 and i%16==0 and i%17==0 and i%18==0 and i%19==0 and i%20==0:\n",
    "    i =i + 10\n",
    "    print(i)\n",
    "print(\"In \"+str(time.time() - start)+' seconds')\n"
   ]
  },
  {
   "cell_type": "code",
   "execution_count": null,
   "metadata": {},
   "outputs": [],
   "source": []
  },
  {
   "cell_type": "code",
   "execution_count": 28,
   "metadata": {
    "tags": []
   },
   "outputs": [
    {
     "output_type": "stream",
     "name": "stdout",
     "text": "num\n"
    }
   ],
   "source": [
    "num = 2520\n",
    "i = 2\n",
    "while i < 21:\n",
    "  if num%i == 0:\n",
    "    check = 'good'\n",
    "    i = i+1\n",
    "  else:\n",
    "    num = num +1\n",
    "    i = 2\n",
    "\n",
    "print(num)"
   ]
  },
  {
   "cell_type": "code",
   "execution_count": null,
   "metadata": {},
   "outputs": [],
   "source": [
    "i = 1\n",
    "while i%100 !=0:\n",
    "    i =i + 1\n",
    "    print(i)"
   ]
  },
  {
   "cell_type": "code",
   "execution_count": 35,
   "metadata": {
    "tags": []
   },
   "outputs": [],
   "source": [
    "def gcd(a,b):\n",
    "    r = a%b\n",
    "    while r > 0:\n",
    "        a = b\n",
    "        b = r\n",
    "        r = a%b\n",
    "    return b\n",
    "\n",
    "\n",
    "def lcm(a,b):\n",
    "    \n"
   ]
  },
  {
   "cell_type": "code",
   "execution_count": 36,
   "metadata": {
    "tags": []
   },
   "outputs": [
    {
     "output_type": "stream",
     "name": "stdout",
     "text": "<function gcd at 0x7f890de590d0>\n"
    }
   ],
   "source": [
    "lcm(10245,100)"
   ]
  },
  {
   "cell_type": "code",
   "execution_count": 37,
   "metadata": {
    "tags": []
   },
   "outputs": [
    {
     "output_type": "stream",
     "name": "stdout",
     "text": "232792560\n18.437639713287354  seconds\n"
    }
   ],
   "source": [
    "import time\n",
    "start_time = time.time()\n",
    "\n",
    "for i in range(2520,10000000000):\n",
    "    if i % 11 == 0 and\\\n",
    "    i % 12 == 0 and\\\n",
    "    i % 13 == 0 and\\\n",
    "    i % 14 == 0 and\\\n",
    "    i % 15 == 0 and\\\n",
    "    i % 16 == 0 and\\\n",
    "    i % 17 == 0 and\\\n",
    "    i % 18 == 0 and\\\n",
    "    i % 19 == 0 and\\\n",
    "    i % 20 == 0:\n",
    "        print(i)\n",
    "        break\n",
    "\n",
    "print(time.time() - start_time,\" seconds\")"
   ]
  },
  {
   "cell_type": "code",
   "execution_count": 42,
   "metadata": {
    "tags": []
   },
   "outputs": [
    {
     "output_type": "stream",
     "name": "stdout",
     "text": "232792560\n5.103905916213989 seconds\n"
    }
   ],
   "source": [
    "import time\n",
    "start_time = time.time()\n",
    "found = None\n",
    "n = 0\n",
    "\n",
    "while not found:\n",
    "    n += 20\n",
    "    for d in range(11,21):\n",
    "        if n % d:\n",
    "            break\n",
    "    else:\n",
    "        found = n \n",
    "print(found)\n",
    "\n",
    "print(time.time() - start_time, \"seconds\")"
   ]
  },
  {
   "cell_type": "code",
   "execution_count": null,
   "metadata": {},
   "outputs": [],
   "source": []
  }
 ]
}