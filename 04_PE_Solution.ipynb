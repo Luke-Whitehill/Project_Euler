{
 "metadata": {
  "language_info": {
   "codemirror_mode": {
    "name": "ipython",
    "version": 3
   },
   "file_extension": ".py",
   "mimetype": "text/x-python",
   "name": "python",
   "nbconvert_exporter": "python",
   "pygments_lexer": "ipython3",
   "version": "3.8.5-final"
  },
  "orig_nbformat": 2,
  "kernelspec": {
   "name": "python_defaultSpec_1599972058383",
   "display_name": "Python 3.8.5 64-bit"
  }
 },
 "nbformat": 4,
 "nbformat_minor": 2,
 "cells": [
  {
   "cell_type": "code",
   "execution_count": 17,
   "metadata": {
    "tags": []
   },
   "outputs": [
    {
     "output_type": "stream",
     "name": "stdout",
     "text": "Palindomic\n9\n9\n8\n0\n0\n1\n"
    }
   ],
   "source": [
    "f = 1\n",
    "b = 1\n",
    "mult1 = 999\n",
    "mult2 = 999\n",
    "product = mult1*mult2\n",
    "if f == b:\n",
    "    print(\"Palindomic\")\n",
    "\n",
    "for i in str(product):\n",
    "    print(i)\n",
    "\n"
   ]
  },
  {
   "cell_type": "code",
   "execution_count": 20,
   "metadata": {},
   "outputs": [
    {
     "output_type": "error",
     "ename": "SyntaxError",
     "evalue": "unexpected EOF while parsing (<ipython-input-20-1e2bd727f5c1>, line 1)",
     "traceback": [
      "\u001b[0;36m  File \u001b[0;32m\"<ipython-input-20-1e2bd727f5c1>\"\u001b[0;36m, line \u001b[0;32m1\u001b[0m\n\u001b[0;31m    print(max([x*y for x in xrange(900,1000) for y in xrange(900,1000) if str(x*y)==str(x*y)[::-1]])\u001b[0m\n\u001b[0m                                                                                                    ^\u001b[0m\n\u001b[0;31mSyntaxError\u001b[0m\u001b[0;31m:\u001b[0m unexpected EOF while parsing\n"
     ]
    }
   ],
   "source": [
    "print(max([x*y for x in xrange(900,1000) for y in xrange(900,1000) if str(x*y)==str(x*y)[::-1]])"
   ]
  },
  {
   "cell_type": "markdown",
   "metadata": {},
   "source": [
    "I remember doing that problem a while ago and I simply made a is_palindrome() function and brute-forced it. I started testing from 999*999 downwards.\n",
    "\n",
    "My approach to detect a palindrome was rather different from yours. I would convert the given number to a string and compare the first char with the nth char, second with n-1 and so on.\n",
    "\n",
    "It was quite simple (and might be inefficient too) but the answer would come up \"instantly\"."
   ]
  },
  {
   "cell_type": "code",
   "execution_count": 22,
   "metadata": {
    "tags": []
   },
   "outputs": [
    {
     "output_type": "stream",
     "name": "stdout",
     "text": "906609\n"
    }
   ],
   "source": [
    "n = 0\n",
    "for a in range(999, 100, -1):\n",
    "    for b in range(a, 100, -1):\n",
    "        x = a * b\n",
    "        if x > n:\n",
    "            s = str(a * b)\n",
    "            if s == s[::-1]:\n",
    "                 n = a * b\n",
    "print(n)"
   ]
  },
  {
   "cell_type": "code",
   "execution_count": 25,
   "metadata": {
    "tags": []
   },
   "outputs": [
    {
     "output_type": "stream",
     "name": "stdout",
     "text": "10\n9\n8\n7\n6\n"
    }
   ],
   "source": [
    "for i in range(10,5,-1):\n",
    "    print(i)"
   ]
  },
  {
   "cell_type": "code",
   "execution_count": 47,
   "metadata": {
    "tags": []
   },
   "outputs": [
    {
     "output_type": "stream",
     "name": "stdout",
     "text": "906609\nIn 0.44864892959594727 seconds\n"
    }
   ],
   "source": [
    "num = []\n",
    "t = 0\n",
    "i = 999\n",
    "import time\n",
    "start = time.time()\n",
    "def check(n):\n",
    "    string_n = str(n)\n",
    "    reverse_n = string_n[::-1]\n",
    "    if reverse_n == string_n:\n",
    "        num.append(n)\n",
    "    return num\n",
    "\n",
    "while i > 99:\n",
    "    for j in range(100,999):\n",
    "        check(i*j)\n",
    "    i = i-1\n",
    "\n",
    "print(max(num))\n",
    "print(\"In \"+str(time.time() - start)+' seconds')\n"
   ]
  },
  {
   "cell_type": "markdown",
   "metadata": {},
   "source": [
    "The palindrome can be written as:\n",
    "\n",
    "abccba\n",
    "\n",
    "Which then simpifies to:\n",
    "\n",
    "100000a + 10000b + 1000c + 100c + 10b + a\n",
    "\n",
    "And then:\n",
    "\n",
    "100001a + 10010b + 1100c\n",
    "\n",
    "Factoring out 11, you get:\n",
    "\n",
    "11(9091a + 910b + 100c)\n",
    "\n",
    "So the palindrome must be divisible by 11.  Seeing as 11 is prime, at least one of the numbers must be divisible by 11.  So brute force in Python, only with less numbers to be checked:\n"
   ]
  },
  {
   "cell_type": "code",
   "execution_count": null,
   "metadata": {},
   "outputs": [],
   "source": [
    "def c():\n",
    "\tmax = maxI = maxJ = 0\n",
    "\ti = 999\n",
    "\tj = 990\n",
    "\twhile (i > 100):\n",
    "\t\tj = 990\n",
    "\t\twhile (j > 100):\n",
    "\t\t\tproduct = i * j\n",
    "\t\t\tif (product > max):\n",
    "\t\t\t\tproductString = str(product)\n",
    "\t\t\t\tif (productString == productString[::-1]):\n",
    "\t\t\t\t\tmax = product\n",
    "\t\t\t\t\tmaxI = i\n",
    "\t\t\t\t\tmaxJ = j\n",
    "\t\t\tj -= 11\n",
    "\t\ti -= 1\n",
    "\treturn max, maxI, maxJ"
   ]
  }
 ]
}