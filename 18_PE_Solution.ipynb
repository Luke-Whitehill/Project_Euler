{
 "metadata": {
  "language_info": {
   "codemirror_mode": {
    "name": "ipython",
    "version": 3
   },
   "file_extension": ".py",
   "mimetype": "text/x-python",
   "name": "python",
   "nbconvert_exporter": "python",
   "pygments_lexer": "ipython3",
   "version": "3.8.5-final"
  },
  "orig_nbformat": 2,
  "kernelspec": {
   "name": "python3",
   "display_name": "Python 3"
  }
 },
 "nbformat": 4,
 "nbformat_minor": 2,
 "cells": [
  {
   "source": [
    "\n",
    "\n",
    "By starting at the top of the triangle below and moving to adjacent numbers on the row below, the maximum total from top to bottom is 23.\n",
    "\n",
    "3\n",
    "7 4\n",
    "2 4 6\n",
    "8 5 9 3\n",
    "\n",
    "That is, 3 + 7 + 4 + 9 = 23.\n",
    "\n",
    "Find the maximum total from top to bottom of the triangle below:\n",
    "\n",
    "75\n",
    "95 64\n",
    "17 47 82\n",
    "18 35 87 10\n",
    "20 04 82 47 65\n",
    "19 01 23 75 03 34\n",
    "88 02 77 73 07 63 67\n",
    "99 65 04 28 06 16 70 92\n",
    "41 41 26 56 83 40 80 70 33\n",
    "41 48 72 33 47 32 37 16 94 29\n",
    "53 71 44 65 25 43 91 52 97 51 14\n",
    "70 11 33 28 77 73 17 78 39 68 17 57\n",
    "91 71 52 38 17 14 91 43 58 50 27 29 48\n",
    "63 66 04 68 89 53 67 30 73 16 69 87 40 31\n",
    "04 62 98 27 23 09 70 98 73 93 38 53 60 04 23\n",
    "\n",
    "NOTE: As there are only 16384 routes, it is possible to solve this problem by trying every route. However, Problem 67, is the same challenge with a triangle containing one-hundred rows; it cannot be solved by brute force, and requires a clever method! ;o)\n"
   ],
   "cell_type": "markdown",
   "metadata": {}
  },
  {
   "cell_type": "code",
   "execution_count": 20,
   "metadata": {},
   "outputs": [],
   "source": [
    "num = [\n",
    "\t[75],\n",
    "\t[95,64],\n",
    "\t[17,47,82],\n",
    "\t[18,35,87,10],\n",
    "\t[20, 4,82,47,65],\n",
    "\t[19, 1,23,75, 3,34],\n",
    "\t[88, 2,77,73, 7,63,67],\n",
    "\t[99,65, 4,28, 6,16,70,92],\n",
    "\t[41,41,26,56,83,40,80,70,33],\n",
    "\t[41,48,72,33,47,32,37,16,94,29],\n",
    "\t[53,71,44,65,25,43,91,52,97,51,14],\n",
    "\t[70,11,33,28,77,73,17,78,39,68,17,57],\n",
    "\t[91,71,52,38,17,14,91,43,58,50,27,29,48],\n",
    "\t[63,66, 4,68,89,53,67,30,73,16,69,87,40,31],\n",
    "\t[ 4,62,98,27,23, 9,70,98,73,93,38,53,60, 4,23],\n",
    "]"
   ]
  },
  {
   "cell_type": "code",
   "execution_count": 21,
   "metadata": {},
   "outputs": [
    {
     "output_type": "stream",
     "name": "stdout",
     "text": [
      "1074\n"
     ]
    }
   ],
   "source": [
    "for x in reversed(range(len(num)-1)):\n",
    "    for y in range(len(num[x])):\n",
    "        num[x][y] += max(num[x+1][y],num[x+1][y+1] )\n",
    "print(num[0][0])"
   ]
  },
  {
   "cell_type": "code",
   "execution_count": 24,
   "metadata": {},
   "outputs": [],
   "source": [
    "#Or as a function\n",
    "def ans():\n",
    "  for x in reversed(range(len(num)-1)):\n",
    "    for y in range(len(num[x])):\n",
    "        num[x][y] += max(num[x+1][y],num[x+1][y+1] )\n",
    "    return num[0][0]"
   ]
  },
  {
   "cell_type": "code",
   "execution_count": 23,
   "metadata": {},
   "outputs": [
    {
     "output_type": "stream",
     "name": "stdout",
     "text": [
      "1074\n"
     ]
    }
   ],
   "source": [
    "print(compute())"
   ]
  },
  {
   "cell_type": "code",
   "execution_count": null,
   "metadata": {},
   "outputs": [],
   "source": []
  }
 ]
}