{
 "metadata": {
  "language_info": {
   "codemirror_mode": {
    "name": "ipython",
    "version": 3
   },
   "file_extension": ".py",
   "mimetype": "text/x-python",
   "name": "python",
   "nbconvert_exporter": "python",
   "pygments_lexer": "ipython3",
   "version": "3.8.5-final"
  },
  "orig_nbformat": 2,
  "kernelspec": {
   "name": "python_defaultSpec_1600033408064",
   "display_name": "Python 3.8.5 64-bit"
  }
 },
 "nbformat": 4,
 "nbformat_minor": 2,
 "cells": [
  {
   "cell_type": "code",
   "execution_count": 14,
   "metadata": {
    "tags": []
   },
   "outputs": [
    {
     "output_type": "stream",
     "name": "stdout",
     "text": "25502500\n338350\nAnswer:\n25164150\n"
    }
   ],
   "source": [
    "sum1= 0\n",
    "for i in range(1,101):\n",
    "    sum1+= i \n",
    "    sumsq = sum1*sum1\n",
    "print(sumsq)\n",
    "\n",
    "sum2 = 0\n",
    "for i in range(1,101):\n",
    "    i = i**2\n",
    "    sum2 += i\n",
    "print(sum2)  \n",
    "\n",
    "ans = sumsq - sum2\n",
    "print(\"Answer:\")\n",
    "print(ans)"
   ]
  },
  {
   "cell_type": "code",
   "execution_count": null,
   "metadata": {},
   "outputs": [],
   "source": []
  }
 ]
}